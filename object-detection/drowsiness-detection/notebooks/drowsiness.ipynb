{
 "cells": [
  {
   "cell_type": "code",
   "execution_count": 2,
   "metadata": {},
   "outputs": [],
   "source": [
    "import torch\n",
    "import cv2\n",
    "import numpy as np"
   ]
  },
  {
   "cell_type": "code",
   "execution_count": 7,
   "metadata": {},
   "outputs": [
    {
     "name": "stderr",
     "output_type": "stream",
     "text": [
      "Using cache found in C:\\Users\\lonex/.cache\\torch\\hub\\ultralytics_yolov5_master\n",
      "YOLOv5  2023-5-5 Python-3.11.2 torch-2.0.0+cpu CPU\n",
      "\n"
     ]
    },
    {
     "name": "stdout",
     "output_type": "stream",
     "text": [
      "\u001b[31m\u001b[1mrequirements:\u001b[0m C:\\Users\\lonex\\.cache\\torch\\hub\\requirements.txt not found, check failed.\n"
     ]
    },
    {
     "name": "stderr",
     "output_type": "stream",
     "text": [
      "Fusing layers... \n",
      "YOLOv5s summary: 213 layers, 7225885 parameters, 0 gradients\n",
      "Adding AutoShape... \n"
     ]
    }
   ],
   "source": [
    "# import pretrained model yolov5 from troch hub\n",
    "model = torch.hub.load('ultralytics/yolov5', 'yolov5s', pretrained=True)"
   ]
  },
  {
   "cell_type": "code",
   "execution_count": 9,
   "metadata": {},
   "outputs": [],
   "source": [
    "cap = cv2.VideoCapture(0)\n",
    "while cap.isOpened():\n",
    "    ret, frame = cap.read()\n",
    "    results = model(frame)\n",
    "    cv2.imshow('video', np.squeeze(results.render()))\n",
    "\n",
    "    if cv2.waitKey(10) & 0xFF == ord('q'):\n",
    "        break\n",
    "cap.release()\n",
    "cv2.destroyAllWindows()"
   ]
  },
  {
   "attachments": {},
   "cell_type": "markdown",
   "metadata": {},
   "source": [
    "### Train From Scratch"
   ]
  },
  {
   "cell_type": "code",
   "execution_count": 12,
   "metadata": {},
   "outputs": [],
   "source": [
    "import uuid\n",
    "import os\n",
    "import time"
   ]
  },
  {
   "cell_type": "code",
   "execution_count": 27,
   "metadata": {},
   "outputs": [],
   "source": [
    "IMAGE_PATH = os.path.join(\"../data\", \"images\")\n",
    "labels = [\"Awake\", \"Drowsy\"]\n",
    "num_images = 20"
   ]
  },
  {
   "cell_type": "code",
   "execution_count": 28,
   "metadata": {},
   "outputs": [
    {
     "name": "stdout",
     "output_type": "stream",
     "text": [
      "Collecting images for Awake\n",
      "Collecting image for Awake, image_number 0\n",
      "Collecting image for Awake, image_number 1\n",
      "Collecting image for Awake, image_number 2\n",
      "Collecting image for Awake, image_number 3\n",
      "Collecting image for Awake, image_number 4\n",
      "Collecting image for Awake, image_number 5\n",
      "Collecting image for Awake, image_number 6\n",
      "Collecting image for Awake, image_number 7\n",
      "Collecting image for Awake, image_number 8\n",
      "Collecting image for Awake, image_number 9\n",
      "Collecting image for Awake, image_number 10\n",
      "Collecting image for Awake, image_number 11\n",
      "Collecting image for Awake, image_number 12\n",
      "Collecting image for Awake, image_number 13\n",
      "Collecting image for Awake, image_number 14\n",
      "Collecting image for Awake, image_number 15\n",
      "Collecting image for Awake, image_number 16\n",
      "Collecting image for Awake, image_number 17\n",
      "Collecting image for Awake, image_number 18\n",
      "Collecting image for Awake, image_number 19\n",
      "Collecting images for Drowsy\n",
      "Collecting image for Drowsy, image_number 0\n",
      "Collecting image for Drowsy, image_number 1\n",
      "Collecting image for Drowsy, image_number 2\n",
      "Collecting image for Drowsy, image_number 3\n",
      "Collecting image for Drowsy, image_number 4\n",
      "Collecting image for Drowsy, image_number 5\n",
      "Collecting image for Drowsy, image_number 6\n",
      "Collecting image for Drowsy, image_number 7\n",
      "Collecting image for Drowsy, image_number 8\n",
      "Collecting image for Drowsy, image_number 9\n",
      "Collecting image for Drowsy, image_number 10\n",
      "Collecting image for Drowsy, image_number 11\n",
      "Collecting image for Drowsy, image_number 12\n",
      "Collecting image for Drowsy, image_number 13\n",
      "Collecting image for Drowsy, image_number 14\n",
      "Collecting image for Drowsy, image_number 15\n",
      "Collecting image for Drowsy, image_number 16\n",
      "Collecting image for Drowsy, image_number 17\n",
      "Collecting image for Drowsy, image_number 18\n",
      "Collecting image for Drowsy, image_number 19\n"
     ]
    }
   ],
   "source": [
    "cap = cv2.VideoCapture(0)\n",
    "for label in labels:\n",
    "    print(\"Collecting images for {}\".format(label))\n",
    "    time.sleep(5)\n",
    "    for img_num in range(num_images):\n",
    "        print(f\"Collecting image for {label}, image_number {img_num}\")\n",
    "\n",
    "        # webcam feed\n",
    "        res, frame = cap.read()\n",
    "\n",
    "        # name of image\n",
    "        img_name = os.path.join(IMAGE_PATH, label+'.'+str(uuid.uuid1())+'.jpg')\n",
    "\n",
    "        # wrtie output to file\n",
    "        cv2.imwrite(img_name, frame)\n",
    "        \n",
    "        # show video capture\n",
    "        cv2.imshow('Capturing Image Data', frame)\n",
    "        time.sleep(2)\n",
    "\n",
    "        if cv2.waitKey(10) & 0xFF == ord('q'):\n",
    "            break\n",
    "cap.release()\n",
    "cv2.destroyAllWindows()"
   ]
  },
  {
   "attachments": {},
   "cell_type": "markdown",
   "metadata": {},
   "source": [
    "### Loading Cutom Model"
   ]
  },
  {
   "cell_type": "code",
   "execution_count": 5,
   "metadata": {},
   "outputs": [
    {
     "name": "stderr",
     "output_type": "stream",
     "text": [
      "Downloading: \"https://github.com/ultralytics/yolov5/zipball/master\" to C:\\Users\\lonex/.cache\\torch\\hub\\master.zip\n",
      "YOLOv5  2023-5-5 Python-3.11.2 torch-2.0.0+cpu CPU\n",
      "\n"
     ]
    },
    {
     "name": "stdout",
     "output_type": "stream",
     "text": [
      "\u001b[31m\u001b[1mrequirements:\u001b[0m C:\\Users\\lonex\\.cache\\torch\\hub\\requirements.txt not found, check failed.\n"
     ]
    },
    {
     "name": "stderr",
     "output_type": "stream",
     "text": [
      "Fusing layers... \n",
      "Model summary: 157 layers, 7055974 parameters, 0 gradients, 15.9 GFLOPs\n",
      "Adding AutoShape... \n"
     ]
    }
   ],
   "source": [
    "model = torch.hub.load('ultralytics/yolov5', 'custom', path= '../yolov5/runs/train/exp6/weights/best.pt', force_reload=True)"
   ]
  },
  {
   "cell_type": "code",
   "execution_count": 6,
   "metadata": {},
   "outputs": [],
   "source": [
    "cap = cv2.VideoCapture(0)\n",
    "while cap.isOpened():\n",
    "    ret, frame = cap.read()\n",
    "    results = model(frame)\n",
    "    cv2.imshow('video', np.squeeze(results.render()))\n",
    "\n",
    "    if cv2.waitKey(10) & 0xFF == ord('q'):\n",
    "        break\n",
    "cap.release()\n",
    "cv2.destroyAllWindows()"
   ]
  },
  {
   "cell_type": "code",
   "execution_count": null,
   "metadata": {},
   "outputs": [],
   "source": []
  }
 ],
 "metadata": {
  "kernelspec": {
   "display_name": "Python 3",
   "language": "python",
   "name": "python3"
  },
  "language_info": {
   "codemirror_mode": {
    "name": "ipython",
    "version": 3
   },
   "file_extension": ".py",
   "mimetype": "text/x-python",
   "name": "python",
   "nbconvert_exporter": "python",
   "pygments_lexer": "ipython3",
   "version": "3.11.2"
  },
  "orig_nbformat": 4
 },
 "nbformat": 4,
 "nbformat_minor": 2
}
