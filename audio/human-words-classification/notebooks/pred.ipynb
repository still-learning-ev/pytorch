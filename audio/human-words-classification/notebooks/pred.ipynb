{
 "cells": [
  {
   "cell_type": "code",
   "execution_count": 79,
   "metadata": {},
   "outputs": [],
   "source": [
    "from model import DCNN\n",
    "import librosa\n",
    "import librosa.display as ldp\n",
    "import torch\n",
    "import os\n",
    "import torchvision.transforms as transforms\n",
    "import numpy as np"
   ]
  },
  {
   "cell_type": "code",
   "execution_count": 80,
   "metadata": {},
   "outputs": [],
   "source": [
    "model = DCNN(0.25)"
   ]
  },
  {
   "cell_type": "code",
   "execution_count": 81,
   "metadata": {},
   "outputs": [
    {
     "data": {
      "text/plain": [
       "<All keys matched successfully>"
      ]
     },
     "execution_count": 81,
     "metadata": {},
     "output_type": "execute_result"
    }
   ],
   "source": [
    "# Test the model\n",
    "device = 'cuda' if torch.cuda.is_available() else 'cpu'\n",
    "load_model = DCNN(0.25).to(device)\n",
    "load_model.load_state_dict(torch.load('../models/voice-classification.pth', map_location=torch.device(device)))"
   ]
  },
  {
   "attachments": {},
   "cell_type": "markdown",
   "metadata": {},
   "source": [
    "# Record audio"
   ]
  },
  {
   "cell_type": "code",
   "execution_count": 100,
   "metadata": {},
   "outputs": [
    {
     "name": "stdout",
     "output_type": "stream",
     "text": [
      "Speak\n",
      "2\n",
      "1\n",
      "0\n",
      "End\n"
     ]
    }
   ],
   "source": [
    "import pyaudio\n",
    "import wave\n",
    "import time\n",
    " \n",
    "# set the chunk size and sample rate\n",
    "chunk = 1024\n",
    "sample_format = pyaudio.paInt16\n",
    "channels = 1\n",
    "fs = 44100  # sample rate\n",
    " \n",
    "# create an instance of the PyAudio class\n",
    "p = pyaudio.PyAudio()\n",
    "\n",
    "# open a stream to record audio\n",
    "stream = p.open(format=sample_format,\n",
    "                channels=channels,\n",
    "                rate=fs,\n",
    "                frames_per_buffer=chunk,\n",
    "                input=True)\n",
    "\n",
    "# record for 5 seconds\n",
    "print(\"Speak\")\n",
    "for i in reversed(range(3)):\n",
    "    print(i)\n",
    "    time.sleep(1)\n",
    "seconds = 2\n",
    "frames = []\n",
    "for i in range(int(fs / chunk * seconds)):\n",
    "    data = stream.read(chunk)\n",
    "    frames.append(data)\n",
    "print(\"End\")\n",
    " \n",
    "# stop the stream and close the PyAudio instance\n",
    "stream.stop_stream()\n",
    "stream.close()\n",
    "p.terminate()\n",
    " \n",
    "# save the recorded audio as a WAV file\n",
    "wf = wave.open(\"../data/output.wav\", \"wb\")\n",
    "wf.setnchannels(channels)\n",
    "wf.setsampwidth(p.get_sample_size(sample_format))\n",
    "wf.setframerate(fs)\n",
    "wf.writeframes(b\"\".join(frames))\n",
    "wf.close()\n"
   ]
  },
  {
   "attachments": {},
   "cell_type": "markdown",
   "metadata": {},
   "source": [
    "# Read Audio File\n"
   ]
  },
  {
   "cell_type": "code",
   "execution_count": 108,
   "metadata": {},
   "outputs": [],
   "source": [
    "def preprocess(audio_file):\n",
    "    # load the audio in wave form\n",
    "    waveform_audio, sample_rate = librosa.load(audio_file)\n",
    "    \n",
    "    # Convert image to spectogram short time fourier transform\n",
    "    waveform_audio_stft = librosa.stft(waveform_audio)\n",
    "    \n",
    "    # Convert image to amplitude_db form\n",
    "    s_db = librosa.amplitude_to_db(np.abs(waveform_audio_stft), ref=np.max )\n",
    "    \n",
    "    # Convert to tensor\n",
    "    s_db = torch.tensor(s_db).unsqueeze(0)\n",
    "    \n",
    "    # Resize \n",
    "    transform = transforms.Resize((1025,44), antialias=False)\n",
    "    s_db = transform(s_db)\n",
    "    \n",
    "    # Reuturn image form of audio\n",
    "    return s_db"
   ]
  },
  {
   "cell_type": "code",
   "execution_count": 114,
   "metadata": {},
   "outputs": [],
   "source": [
    "audio_file = '../data/012c8314_nohash_0_dog.wav'"
   ]
  },
  {
   "cell_type": "code",
   "execution_count": 110,
   "metadata": {},
   "outputs": [],
   "source": [
    "audio = preprocess(audio_file)"
   ]
  },
  {
   "cell_type": "code",
   "execution_count": 111,
   "metadata": {},
   "outputs": [],
   "source": [
    "index = torch.argmax(torch.softmax(model(audio.unsqueeze(dim=0).to(device)), dim=1)).item()"
   ]
  },
  {
   "cell_type": "code",
   "execution_count": 112,
   "metadata": {},
   "outputs": [],
   "source": [
    "labels=['dog', 'bird', 'cat']"
   ]
  },
  {
   "cell_type": "code",
   "execution_count": 113,
   "metadata": {},
   "outputs": [
    {
     "name": "stdout",
     "output_type": "stream",
     "text": [
      "0 dog\n"
     ]
    }
   ],
   "source": [
    "print(index,labels[index])"
   ]
  },
  {
   "cell_type": "code",
   "execution_count": null,
   "metadata": {},
   "outputs": [],
   "source": []
  }
 ],
 "metadata": {
  "kernelspec": {
   "display_name": "Python 3",
   "language": "python",
   "name": "python3"
  },
  "language_info": {
   "codemirror_mode": {
    "name": "ipython",
    "version": 3
   },
   "file_extension": ".py",
   "mimetype": "text/x-python",
   "name": "python",
   "nbconvert_exporter": "python",
   "pygments_lexer": "ipython3",
   "version": "3.11.2"
  },
  "orig_nbformat": 4
 },
 "nbformat": 4,
 "nbformat_minor": 2
}
